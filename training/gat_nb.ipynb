{
 "cells": [
  {
   "cell_type": "code",
   "execution_count": 1,
   "id": "7b67afbe",
   "metadata": {},
   "outputs": [
    {
     "name": "stderr",
     "output_type": "stream",
     "text": [
      "/raid/infolab/sarvam/env_sd/lib/python3.12/site-packages/tqdm/auto.py:21: TqdmWarning: IProgress not found. Please update jupyter and ipywidgets. See https://ipywidgets.readthedocs.io/en/stable/user_install.html\n",
      "  from .autonotebook import tqdm as notebook_tqdm\n"
     ]
    }
   ],
   "source": [
    "import os\n",
    "import sys\n",
    "from dotenv import load_dotenv\n",
    "\n",
    "# Load the .env file\n",
    "load_dotenv()\n",
    "sys.path.insert(1, os.getenv(\"PROJECT_ROOT\"))\n",
    "os.environ['HF_HOME'] = os.getenv(\"HF_CACHE\")\n",
    "\n",
    "from transformers import AutoTokenizer, AutoModel\n",
    "import torch\n",
    "import pickle\n",
    "from tqdm import tqdm\n",
    "import torch.nn as nn\n",
    "import dgl\n",
    "from dgl import heterograph\n",
    "from collections import defaultdict\n",
    "import numpy as np\n",
    "import networkx as nx\n",
    "from pathlib import Path\n",
    "\n",
    "# Load SciBERT model\n",
    "device = torch.device(\"cuda:7\" if torch.cuda.is_available() else \"cpu\")\n",
    "tokenizer = AutoTokenizer.from_pretrained(\"allenai/scibert_scivocab_uncased\", local_files_only=True)\n",
    "model = AutoModel.from_pretrained(\"allenai/scibert_scivocab_uncased\", local_files_only=True).to(device)\n"
   ]
  },
  {
   "cell_type": "code",
   "execution_count": 2,
   "id": "8bd4e717",
   "metadata": {},
   "outputs": [
    {
     "name": "stderr",
     "output_type": "stream",
     "text": [
      "100%|██████████| 11528/11528 [00:00<00:00, 49234.71it/s]\n",
      "100%|██████████| 1500/1500 [00:00<00:00, 26119.17it/s]\n",
      "11528it [01:37, 118.50it/s]\n",
      "1500it [00:10, 142.27it/s]\n"
     ]
    }
   ],
   "source": [
    "def get_scibert_embedding(text):\n",
    "    inputs = tokenizer(text, return_tensors=\"pt\", truncation=True, padding=True, max_length=512).to(device)\n",
    "    \n",
    "    with torch.no_grad():\n",
    "        outputs = model(**inputs)\n",
    "    \n",
    "    cls_embedding = outputs.last_hidden_state[:, 0, :]  # CLS token\n",
    "    return cls_embedding  # shape: (1, hidden_size)\n",
    "\n",
    "\n",
    "paper_records = pickle.load(open('data/teacher_graph/records/paper_records.pkl', \"rb\"))\n",
    "author_records = pickle.load(open('data/teacher_graph/records/author_records.pkl', \"rb\"))\n",
    "fields_of_study = set()\n",
    "affiliations = set()\n",
    "\n",
    "all_ids = set(paper_records.keys())\n",
    "student_paper_ids = pickle.load(open('data/teacher_graph/paper_ids.pkl', \"rb\"))\n",
    "eval_ids = pickle.load(open('data/teacher_graph/eval_ids.pickle', \"rb\"))\n",
    "test_ids = pickle.load(open('data/teacher_graph/test_ids.pickle', \"rb\"))\n",
    "extra_train_ids = pickle.load(open('data/teacher_graph/extra_train_ids.pickle', \"rb\"))\n",
    "\n",
    "# create a combined set of student paper ids and extra train ids\n",
    "train_ids = set(student_paper_ids).union(extra_train_ids)\n",
    "\n",
    "# combined_ids = set(train_ids).union(eval_ids)\n",
    "\n",
    "train_ids_nums = {i:idx for idx, i in enumerate(train_ids)}\n",
    "train_nodes = [v for k,v in train_ids_nums.items()]\n",
    "\n",
    "eval_ids_nums = {i:idx for idx, i in enumerate(eval_ids)}\n",
    "eval_nodes = [v for k,v in eval_ids_nums.items()]\n",
    "\n",
    "# for author_id, author in tqdm(author_records.items()):\n",
    "#     affiliations.update(author['affiliations'])\n",
    "\n",
    "# for s2_id, paper in tqdm(paper_records.items()):\n",
    "#     fields_of_study.update(paper['field_ids'])\n",
    "\n",
    "\n",
    "\n",
    "train_graph = nx.DiGraph()\n",
    "\n",
    "# add nodes for all papers\n",
    "train_graph.add_nodes_from(train_nodes)\n",
    "\n",
    "# add edges for all papers\n",
    "edges = []\n",
    "\n",
    "for s2_id in tqdm(train_ids):\n",
    "    paper = paper_records[s2_id]\n",
    "    for ref_id in paper['reference_ids']:\n",
    "        if ref_id in train_ids:\n",
    "            if ref_id == None:\n",
    "                continue\n",
    "            edges.append((train_ids_nums[s2_id], train_ids_nums[ref_id])) # paper -> reference\n",
    "   \n",
    "train_graph.add_edges_from(edges)\n",
    "train_feats = torch.zeros((len(train_ids), 768))\n",
    "\n",
    "\n",
    "eval_edges = []\n",
    "for s2_id in tqdm(eval_ids):\n",
    "    paper = paper_records[s2_id]\n",
    "    for ref_id in paper['reference_ids']:\n",
    "        if ref_id in train_ids:\n",
    "            if ref_id == None:\n",
    "                continue\n",
    "            eval_edges.append((eval_ids_nums[s2_id], train_ids_nums[ref_id])) # paper -> reference\n",
    "\n",
    "\n",
    "# Compute and assign SciBERT embeddings for paper nodes\n",
    "for local_idx, global_id in tqdm(enumerate(train_ids)):\n",
    "    pdata = paper_records[global_id]\n",
    "    if pdata['abstract'] is None:\n",
    "        abstract = \"\"\n",
    "    else:\n",
    "        abstract = pdata['abstract']\n",
    "    text = pdata['title'] + \"\\n\" + abstract + \"\\n\"\n",
    "    # text += f\"This paper was published in {pdata['venue']} in {pdata['year']}. It has {len(pdata[\"author_ids\"])} authors and {pdata['referenceCount']} references. It has {pdata[\"citationCount\"]} citations and {pdata[\"influentialCitationCount\"]} influential citations.\"\n",
    "    emb = get_scibert_embedding(text)\n",
    "    train_feats[local_idx] = emb\n",
    "\n",
    "# 1. Prepare eval node SciBERT embeddings (once)\n",
    "eval_feats = torch.zeros(len(eval_ids), 768)\n",
    "for local_idx, global_id in tqdm(enumerate(eval_ids)):\n",
    "    pdata = paper_records[global_id]\n",
    "    if pdata['abstract'] is None:\n",
    "        abstract = \"\"\n",
    "    else:\n",
    "        abstract = pdata['abstract']\n",
    "    text = pdata['title'] + \"\\n\" + abstract + \"\\n\"\n",
    "    emb = get_scibert_embedding(text)\n",
    "    eval_feats[local_idx] = emb\n",
    "\n",
    "# train the model using the graph attention network\n",
    "import torch.nn.functional as F\n",
    "from torch_geometric.nn import GATConv\n",
    "\n",
    "train_feats = train_feats.to(device)\n",
    "eval_feats = eval_feats.to(device)\n",
    "\n",
    "combined_feats = torch.cat((train_feats, eval_feats), dim=0)\n",
    "combined_feats = combined_feats.to(device)"
   ]
  },
  {
   "cell_type": "code",
   "execution_count": 3,
   "id": "572e72a2",
   "metadata": {},
   "outputs": [],
   "source": [
    "eval_graph = nx.DiGraph()\n",
    "# add nodes for all papers\n",
    "eval_graph.add_nodes_from(eval_nodes)\n",
    "# add edges for all papers\n",
    "eval_graph.add_edges_from([])"
   ]
  },
  {
   "cell_type": "code",
   "execution_count": null,
   "id": "e2f0c5c3",
   "metadata": {},
   "outputs": [],
   "source": []
  },
  {
   "cell_type": "code",
   "execution_count": 4,
   "id": "163cee61",
   "metadata": {},
   "outputs": [],
   "source": [
    "def compute_loss(pos_score, neg_score):\n",
    "    pos_loss = -F.logsigmoid(pos_score).mean()\n",
    "    neg_loss = -F.logsigmoid(-neg_score).mean()\n",
    "    return pos_loss + neg_loss"
   ]
  },
  {
   "cell_type": "code",
   "execution_count": 5,
   "id": "42f67e14",
   "metadata": {},
   "outputs": [
    {
     "name": "stderr",
     "output_type": "stream",
     "text": [
      "100%|██████████| 63/63 [00:03<00:00, 17.08it/s]\n",
      "100%|██████████| 63/63 [00:03<00:00, 18.83it/s]\n",
      "100%|██████████| 63/63 [00:03<00:00, 18.91it/s]\n",
      "100%|██████████| 63/63 [00:03<00:00, 16.37it/s]\n",
      "100%|██████████| 63/63 [00:03<00:00, 15.78it/s]\n"
     ]
    },
    {
     "name": "stdout",
     "output_type": "stream",
     "text": [
      "Epoch 0 | Average Loss: 1.8426\n",
      "Recall@10: 0.0032 | Recall@20: 0.0053\n"
     ]
    },
    {
     "name": "stderr",
     "output_type": "stream",
     "text": [
      "100%|██████████| 63/63 [00:03<00:00, 16.36it/s]\n",
      "100%|██████████| 63/63 [00:03<00:00, 19.22it/s]\n",
      "100%|██████████| 63/63 [00:03<00:00, 18.44it/s]\n",
      "100%|██████████| 63/63 [00:03<00:00, 16.82it/s]\n",
      "100%|██████████| 63/63 [00:03<00:00, 18.01it/s]\n"
     ]
    },
    {
     "name": "stdout",
     "output_type": "stream",
     "text": [
      "Epoch 1 | Average Loss: 1.0305\n",
      "Recall@10: 0.0042 | Recall@20: 0.0064\n"
     ]
    },
    {
     "name": "stderr",
     "output_type": "stream",
     "text": [
      "100%|██████████| 63/63 [00:03<00:00, 18.23it/s]\n",
      "100%|██████████| 63/63 [00:03<00:00, 18.63it/s]\n",
      "100%|██████████| 63/63 [00:03<00:00, 19.84it/s]\n",
      "100%|██████████| 63/63 [00:03<00:00, 17.87it/s]\n",
      "100%|██████████| 63/63 [00:03<00:00, 17.52it/s]\n"
     ]
    },
    {
     "name": "stdout",
     "output_type": "stream",
     "text": [
      "Epoch 2 | Average Loss: 1.0167\n",
      "Recall@10: 0.0044 | Recall@20: 0.0078\n"
     ]
    },
    {
     "name": "stderr",
     "output_type": "stream",
     "text": [
      "100%|██████████| 63/63 [00:03<00:00, 16.82it/s]\n",
      "100%|██████████| 63/63 [00:03<00:00, 16.35it/s]\n",
      "100%|██████████| 63/63 [00:03<00:00, 19.75it/s]\n",
      "100%|██████████| 63/63 [00:03<00:00, 17.67it/s]\n",
      "100%|██████████| 63/63 [00:03<00:00, 19.29it/s]\n"
     ]
    },
    {
     "name": "stdout",
     "output_type": "stream",
     "text": [
      "Epoch 3 | Average Loss: 1.0126\n",
      "Recall@10: 0.0045 | Recall@20: 0.0077\n"
     ]
    },
    {
     "name": "stderr",
     "output_type": "stream",
     "text": [
      "100%|██████████| 63/63 [00:03<00:00, 20.26it/s]\n",
      "100%|██████████| 63/63 [00:03<00:00, 17.17it/s]\n",
      "100%|██████████| 63/63 [00:03<00:00, 17.09it/s]\n",
      "100%|██████████| 63/63 [00:03<00:00, 15.88it/s]\n",
      "100%|██████████| 63/63 [00:04<00:00, 15.19it/s]\n"
     ]
    },
    {
     "name": "stdout",
     "output_type": "stream",
     "text": [
      "Epoch 4 | Average Loss: 1.0024\n",
      "Recall@10: 0.0052 | Recall@20: 0.0110\n"
     ]
    },
    {
     "name": "stderr",
     "output_type": "stream",
     "text": [
      "100%|██████████| 63/63 [00:03<00:00, 17.84it/s]\n",
      "100%|██████████| 63/63 [00:03<00:00, 18.58it/s]\n",
      "100%|██████████| 63/63 [00:03<00:00, 18.90it/s]\n",
      "100%|██████████| 63/63 [00:03<00:00, 18.54it/s]\n",
      "100%|██████████| 63/63 [00:03<00:00, 19.30it/s]\n"
     ]
    },
    {
     "name": "stdout",
     "output_type": "stream",
     "text": [
      "Epoch 5 | Average Loss: 0.9926\n",
      "Recall@10: 0.0059 | Recall@20: 0.0133\n"
     ]
    },
    {
     "name": "stderr",
     "output_type": "stream",
     "text": [
      "100%|██████████| 63/63 [00:03<00:00, 16.37it/s]\n",
      "100%|██████████| 63/63 [00:03<00:00, 16.70it/s]\n",
      "100%|██████████| 63/63 [00:04<00:00, 12.73it/s]\n",
      "100%|██████████| 63/63 [00:03<00:00, 15.92it/s]\n",
      "100%|██████████| 63/63 [00:03<00:00, 18.60it/s]\n"
     ]
    },
    {
     "name": "stdout",
     "output_type": "stream",
     "text": [
      "Epoch 6 | Average Loss: 0.9781\n",
      "Recall@10: 0.0185 | Recall@20: 0.0378\n"
     ]
    },
    {
     "name": "stderr",
     "output_type": "stream",
     "text": [
      "100%|██████████| 63/63 [00:03<00:00, 20.85it/s]\n",
      "100%|██████████| 63/63 [00:03<00:00, 17.12it/s]\n",
      "100%|██████████| 63/63 [00:04<00:00, 15.14it/s]\n",
      "100%|██████████| 63/63 [00:03<00:00, 16.24it/s]\n",
      "100%|██████████| 63/63 [00:03<00:00, 16.98it/s]\n"
     ]
    },
    {
     "name": "stdout",
     "output_type": "stream",
     "text": [
      "Epoch 7 | Average Loss: 0.9669\n",
      "Recall@10: 0.0344 | Recall@20: 0.0587\n"
     ]
    },
    {
     "name": "stderr",
     "output_type": "stream",
     "text": [
      "100%|██████████| 63/63 [00:03<00:00, 17.43it/s]\n",
      "100%|██████████| 63/63 [00:04<00:00, 14.64it/s]\n",
      "100%|██████████| 63/63 [00:03<00:00, 20.21it/s]\n",
      "100%|██████████| 63/63 [00:03<00:00, 19.66it/s]\n",
      "100%|██████████| 63/63 [00:03<00:00, 16.57it/s]\n"
     ]
    },
    {
     "name": "stdout",
     "output_type": "stream",
     "text": [
      "Epoch 8 | Average Loss: 0.9572\n",
      "Recall@10: 0.0451 | Recall@20: 0.0770\n"
     ]
    },
    {
     "name": "stderr",
     "output_type": "stream",
     "text": [
      "100%|██████████| 63/63 [00:04<00:00, 14.96it/s]\n",
      "100%|██████████| 63/63 [00:04<00:00, 13.24it/s]\n",
      "100%|██████████| 63/63 [00:03<00:00, 18.17it/s]\n",
      "100%|██████████| 63/63 [00:03<00:00, 18.80it/s]\n",
      "100%|██████████| 63/63 [00:03<00:00, 20.29it/s]\n"
     ]
    },
    {
     "name": "stdout",
     "output_type": "stream",
     "text": [
      "Epoch 9 | Average Loss: 0.9521\n",
      "Recall@10: 0.0531 | Recall@20: 0.0907\n"
     ]
    },
    {
     "name": "stderr",
     "output_type": "stream",
     "text": [
      "100%|██████████| 63/63 [00:03<00:00, 18.34it/s]\n",
      "100%|██████████| 63/63 [00:05<00:00, 11.52it/s]\n",
      "100%|██████████| 63/63 [00:04<00:00, 14.75it/s]\n",
      "100%|██████████| 63/63 [00:03<00:00, 16.06it/s]\n",
      "100%|██████████| 63/63 [00:04<00:00, 14.08it/s]\n"
     ]
    },
    {
     "name": "stdout",
     "output_type": "stream",
     "text": [
      "Epoch 10 | Average Loss: 0.9420\n",
      "Recall@10: 0.0546 | Recall@20: 0.0864\n"
     ]
    },
    {
     "name": "stderr",
     "output_type": "stream",
     "text": [
      "100%|██████████| 63/63 [00:04<00:00, 13.50it/s]\n",
      "100%|██████████| 63/63 [00:03<00:00, 18.70it/s]\n",
      "100%|██████████| 63/63 [00:03<00:00, 20.64it/s]\n",
      "100%|██████████| 63/63 [00:05<00:00, 11.19it/s]\n",
      "100%|██████████| 63/63 [00:03<00:00, 17.84it/s]\n"
     ]
    },
    {
     "name": "stdout",
     "output_type": "stream",
     "text": [
      "Epoch 11 | Average Loss: 0.9354\n",
      "Recall@10: 0.0645 | Recall@20: 0.1017\n"
     ]
    },
    {
     "name": "stderr",
     "output_type": "stream",
     "text": [
      "100%|██████████| 63/63 [00:03<00:00, 16.82it/s]\n",
      "100%|██████████| 63/63 [00:03<00:00, 16.56it/s]\n",
      "100%|██████████| 63/63 [00:03<00:00, 16.28it/s]\n",
      "100%|██████████| 63/63 [00:03<00:00, 18.17it/s]\n",
      "100%|██████████| 63/63 [00:03<00:00, 16.67it/s]\n"
     ]
    },
    {
     "name": "stdout",
     "output_type": "stream",
     "text": [
      "Epoch 12 | Average Loss: 0.9302\n",
      "Recall@10: 0.0810 | Recall@20: 0.1259\n"
     ]
    },
    {
     "name": "stderr",
     "output_type": "stream",
     "text": [
      "100%|██████████| 63/63 [00:05<00:00, 10.51it/s]\n",
      "100%|██████████| 63/63 [00:06<00:00, 10.06it/s]\n",
      "100%|██████████| 63/63 [00:04<00:00, 15.16it/s]\n",
      "100%|██████████| 63/63 [00:05<00:00, 11.50it/s]\n",
      "100%|██████████| 63/63 [00:03<00:00, 17.50it/s]\n"
     ]
    },
    {
     "name": "stdout",
     "output_type": "stream",
     "text": [
      "Epoch 13 | Average Loss: 0.9221\n",
      "Recall@10: 0.0852 | Recall@20: 0.1347\n"
     ]
    },
    {
     "name": "stderr",
     "output_type": "stream",
     "text": [
      "100%|██████████| 63/63 [00:03<00:00, 20.36it/s]\n",
      "100%|██████████| 63/63 [00:04<00:00, 12.63it/s]\n",
      "100%|██████████| 63/63 [00:04<00:00, 15.61it/s]\n",
      "100%|██████████| 63/63 [00:03<00:00, 17.33it/s]\n",
      "100%|██████████| 63/63 [00:03<00:00, 17.54it/s]\n"
     ]
    },
    {
     "name": "stdout",
     "output_type": "stream",
     "text": [
      "Epoch 14 | Average Loss: 0.9163\n",
      "Recall@10: 0.0826 | Recall@20: 0.1287\n"
     ]
    },
    {
     "name": "stderr",
     "output_type": "stream",
     "text": [
      "100%|██████████| 63/63 [00:03<00:00, 16.76it/s]\n",
      "100%|██████████| 63/63 [00:03<00:00, 16.64it/s]\n",
      "100%|██████████| 63/63 [00:04<00:00, 15.23it/s]\n",
      "100%|██████████| 63/63 [00:04<00:00, 12.67it/s]\n",
      "100%|██████████| 63/63 [00:05<00:00, 11.53it/s]\n"
     ]
    },
    {
     "name": "stdout",
     "output_type": "stream",
     "text": [
      "Epoch 15 | Average Loss: 0.9149\n",
      "Recall@10: 0.0902 | Recall@20: 0.1394\n"
     ]
    },
    {
     "name": "stderr",
     "output_type": "stream",
     "text": [
      "100%|██████████| 63/63 [00:03<00:00, 17.12it/s]\n",
      "100%|██████████| 63/63 [00:03<00:00, 16.09it/s]\n",
      "100%|██████████| 63/63 [00:05<00:00, 12.07it/s]\n",
      "100%|██████████| 63/63 [00:03<00:00, 20.61it/s]\n",
      "100%|██████████| 63/63 [00:05<00:00, 11.81it/s]\n"
     ]
    },
    {
     "name": "stdout",
     "output_type": "stream",
     "text": [
      "Epoch 16 | Average Loss: 0.9133\n",
      "Recall@10: 0.0891 | Recall@20: 0.1396\n"
     ]
    },
    {
     "name": "stderr",
     "output_type": "stream",
     "text": [
      "100%|██████████| 63/63 [00:03<00:00, 17.22it/s]\n",
      "100%|██████████| 63/63 [00:03<00:00, 19.96it/s]\n",
      "100%|██████████| 63/63 [00:03<00:00, 20.31it/s]\n",
      "100%|██████████| 63/63 [00:03<00:00, 18.12it/s]\n",
      "100%|██████████| 63/63 [00:03<00:00, 19.37it/s]\n"
     ]
    },
    {
     "name": "stdout",
     "output_type": "stream",
     "text": [
      "Epoch 17 | Average Loss: 0.9061\n",
      "Recall@10: 0.0890 | Recall@20: 0.1355\n"
     ]
    },
    {
     "name": "stderr",
     "output_type": "stream",
     "text": [
      "100%|██████████| 63/63 [00:05<00:00, 12.18it/s]\n",
      "100%|██████████| 63/63 [00:04<00:00, 14.63it/s]\n",
      "100%|██████████| 63/63 [00:03<00:00, 15.76it/s]\n",
      "100%|██████████| 63/63 [00:05<00:00, 11.99it/s]\n",
      "100%|██████████| 63/63 [00:05<00:00, 10.96it/s]\n"
     ]
    },
    {
     "name": "stdout",
     "output_type": "stream",
     "text": [
      "Epoch 18 | Average Loss: 0.9045\n",
      "Recall@10: 0.0882 | Recall@20: 0.1307\n"
     ]
    },
    {
     "name": "stderr",
     "output_type": "stream",
     "text": [
      "100%|██████████| 63/63 [00:04<00:00, 14.13it/s]\n",
      "100%|██████████| 63/63 [00:03<00:00, 18.76it/s]\n",
      "100%|██████████| 63/63 [00:04<00:00, 13.17it/s]\n",
      "100%|██████████| 63/63 [00:03<00:00, 18.06it/s]\n",
      "100%|██████████| 63/63 [00:03<00:00, 17.43it/s]\n"
     ]
    },
    {
     "name": "stdout",
     "output_type": "stream",
     "text": [
      "Epoch 19 | Average Loss: 0.9010\n",
      "Recall@10: 0.0879 | Recall@20: 0.1293\n"
     ]
    },
    {
     "name": "stderr",
     "output_type": "stream",
     "text": [
      "100%|██████████| 63/63 [00:03<00:00, 19.67it/s]\n",
      "100%|██████████| 63/63 [00:03<00:00, 18.89it/s]\n",
      "100%|██████████| 63/63 [00:03<00:00, 19.78it/s]\n",
      "100%|██████████| 63/63 [00:03<00:00, 17.26it/s]\n",
      "100%|██████████| 63/63 [00:05<00:00, 12.22it/s]\n"
     ]
    },
    {
     "name": "stdout",
     "output_type": "stream",
     "text": [
      "Epoch 20 | Average Loss: 0.9061\n",
      "Recall@10: 0.0989 | Recall@20: 0.1532\n"
     ]
    },
    {
     "name": "stderr",
     "output_type": "stream",
     "text": [
      "100%|██████████| 63/63 [00:04<00:00, 15.69it/s]\n",
      "100%|██████████| 63/63 [00:04<00:00, 14.54it/s]\n",
      "100%|██████████| 63/63 [00:03<00:00, 17.00it/s]\n",
      "100%|██████████| 63/63 [00:03<00:00, 16.70it/s]\n",
      "100%|██████████| 63/63 [00:03<00:00, 18.13it/s]\n"
     ]
    },
    {
     "name": "stdout",
     "output_type": "stream",
     "text": [
      "Epoch 21 | Average Loss: 0.8972\n",
      "Recall@10: 0.0952 | Recall@20: 0.1418\n"
     ]
    },
    {
     "name": "stderr",
     "output_type": "stream",
     "text": [
      "100%|██████████| 63/63 [00:03<00:00, 17.52it/s]\n",
      "100%|██████████| 63/63 [00:03<00:00, 19.84it/s]\n",
      "100%|██████████| 63/63 [00:05<00:00, 11.01it/s]\n",
      "100%|██████████| 63/63 [00:03<00:00, 17.17it/s]\n",
      "100%|██████████| 63/63 [00:03<00:00, 18.85it/s]\n"
     ]
    },
    {
     "name": "stdout",
     "output_type": "stream",
     "text": [
      "Epoch 22 | Average Loss: 0.8944\n",
      "Recall@10: 0.1004 | Recall@20: 0.1486\n"
     ]
    },
    {
     "name": "stderr",
     "output_type": "stream",
     "text": [
      "100%|██████████| 63/63 [00:03<00:00, 19.61it/s]\n",
      "100%|██████████| 63/63 [00:03<00:00, 17.21it/s]\n",
      "100%|██████████| 63/63 [00:03<00:00, 18.41it/s]\n",
      "100%|██████████| 63/63 [00:03<00:00, 19.02it/s]\n",
      "100%|██████████| 63/63 [00:04<00:00, 14.92it/s]\n"
     ]
    },
    {
     "name": "stdout",
     "output_type": "stream",
     "text": [
      "Epoch 23 | Average Loss: 0.8904\n",
      "Recall@10: 0.0986 | Recall@20: 0.1479\n"
     ]
    },
    {
     "name": "stderr",
     "output_type": "stream",
     "text": [
      "100%|██████████| 63/63 [00:04<00:00, 15.26it/s]\n",
      "100%|██████████| 63/63 [00:04<00:00, 14.77it/s]\n",
      "100%|██████████| 63/63 [00:04<00:00, 13.58it/s]\n",
      "100%|██████████| 63/63 [00:05<00:00, 12.24it/s]\n",
      "100%|██████████| 63/63 [00:04<00:00, 13.16it/s]\n"
     ]
    },
    {
     "name": "stdout",
     "output_type": "stream",
     "text": [
      "Epoch 24 | Average Loss: 0.8929\n",
      "Recall@10: 0.1025 | Recall@20: 0.1553\n"
     ]
    },
    {
     "name": "stderr",
     "output_type": "stream",
     "text": [
      "100%|██████████| 63/63 [00:03<00:00, 17.36it/s]\n",
      "100%|██████████| 63/63 [00:04<00:00, 13.67it/s]\n",
      "100%|██████████| 63/63 [00:04<00:00, 13.41it/s]\n",
      "100%|██████████| 63/63 [00:03<00:00, 17.61it/s]\n",
      "100%|██████████| 63/63 [00:03<00:00, 17.70it/s]\n"
     ]
    },
    {
     "name": "stdout",
     "output_type": "stream",
     "text": [
      "Epoch 25 | Average Loss: 0.8864\n",
      "Recall@10: 0.0984 | Recall@20: 0.1511\n"
     ]
    },
    {
     "name": "stderr",
     "output_type": "stream",
     "text": [
      "100%|██████████| 63/63 [00:03<00:00, 16.18it/s]\n",
      "100%|██████████| 63/63 [00:03<00:00, 17.22it/s]\n",
      "100%|██████████| 63/63 [00:04<00:00, 15.67it/s]\n",
      "100%|██████████| 63/63 [00:04<00:00, 13.23it/s]\n",
      "100%|██████████| 63/63 [00:04<00:00, 14.61it/s]\n"
     ]
    },
    {
     "name": "stdout",
     "output_type": "stream",
     "text": [
      "Epoch 26 | Average Loss: 0.8853\n",
      "Recall@10: 0.1051 | Recall@20: 0.1668\n"
     ]
    },
    {
     "name": "stderr",
     "output_type": "stream",
     "text": [
      "100%|██████████| 63/63 [00:03<00:00, 16.24it/s]\n",
      "100%|██████████| 63/63 [00:05<00:00, 11.62it/s]\n",
      "100%|██████████| 63/63 [00:03<00:00, 16.12it/s]\n",
      "100%|██████████| 63/63 [00:03<00:00, 18.52it/s]\n",
      "100%|██████████| 63/63 [00:05<00:00, 12.48it/s]\n"
     ]
    },
    {
     "name": "stdout",
     "output_type": "stream",
     "text": [
      "Epoch 27 | Average Loss: 0.8833\n",
      "Recall@10: 0.0972 | Recall@20: 0.1383\n"
     ]
    },
    {
     "name": "stderr",
     "output_type": "stream",
     "text": [
      "100%|██████████| 63/63 [00:03<00:00, 16.20it/s]\n",
      "100%|██████████| 63/63 [00:03<00:00, 17.83it/s]\n",
      "100%|██████████| 63/63 [00:03<00:00, 18.80it/s]\n",
      "100%|██████████| 63/63 [00:03<00:00, 20.44it/s]\n",
      "100%|██████████| 63/63 [00:03<00:00, 16.98it/s]\n"
     ]
    },
    {
     "name": "stdout",
     "output_type": "stream",
     "text": [
      "Epoch 28 | Average Loss: 0.8797\n",
      "Recall@10: 0.1057 | Recall@20: 0.1584\n"
     ]
    },
    {
     "name": "stderr",
     "output_type": "stream",
     "text": [
      "100%|██████████| 63/63 [00:04<00:00, 13.14it/s]\n",
      "100%|██████████| 63/63 [00:04<00:00, 13.67it/s]\n",
      "100%|██████████| 63/63 [00:04<00:00, 13.38it/s]\n",
      "100%|██████████| 63/63 [00:04<00:00, 15.18it/s]\n",
      "100%|██████████| 63/63 [00:03<00:00, 16.99it/s]\n"
     ]
    },
    {
     "name": "stdout",
     "output_type": "stream",
     "text": [
      "Epoch 29 | Average Loss: 0.8810\n",
      "Recall@10: 0.1030 | Recall@20: 0.1530\n"
     ]
    },
    {
     "name": "stderr",
     "output_type": "stream",
     "text": [
      "100%|██████████| 63/63 [00:03<00:00, 18.99it/s]\n",
      "100%|██████████| 63/63 [00:03<00:00, 19.36it/s]\n",
      "100%|██████████| 63/63 [00:05<00:00, 10.99it/s]\n",
      "100%|██████████| 63/63 [00:04<00:00, 12.75it/s]\n",
      "100%|██████████| 63/63 [00:03<00:00, 17.11it/s]\n"
     ]
    },
    {
     "name": "stdout",
     "output_type": "stream",
     "text": [
      "Epoch 30 | Average Loss: 0.8794\n",
      "Recall@10: 0.1016 | Recall@20: 0.1542\n"
     ]
    },
    {
     "name": "stderr",
     "output_type": "stream",
     "text": [
      "100%|██████████| 63/63 [00:03<00:00, 16.52it/s]\n",
      "100%|██████████| 63/63 [00:03<00:00, 18.08it/s]\n",
      "100%|██████████| 63/63 [00:04<00:00, 15.51it/s]\n",
      "100%|██████████| 63/63 [00:04<00:00, 12.78it/s]\n",
      "100%|██████████| 63/63 [00:04<00:00, 13.88it/s]\n"
     ]
    },
    {
     "name": "stdout",
     "output_type": "stream",
     "text": [
      "Epoch 31 | Average Loss: 0.8767\n",
      "Recall@10: 0.1065 | Recall@20: 0.1574\n"
     ]
    },
    {
     "name": "stderr",
     "output_type": "stream",
     "text": [
      "100%|██████████| 63/63 [00:03<00:00, 16.10it/s]\n",
      "100%|██████████| 63/63 [00:05<00:00, 12.15it/s]\n",
      "100%|██████████| 63/63 [00:03<00:00, 15.78it/s]\n",
      "100%|██████████| 63/63 [00:03<00:00, 20.34it/s]\n",
      "100%|██████████| 63/63 [00:05<00:00, 12.12it/s]\n"
     ]
    },
    {
     "name": "stdout",
     "output_type": "stream",
     "text": [
      "Epoch 32 | Average Loss: 0.8788\n",
      "Recall@10: 0.1059 | Recall@20: 0.1598\n"
     ]
    },
    {
     "name": "stderr",
     "output_type": "stream",
     "text": [
      "100%|██████████| 63/63 [00:03<00:00, 17.06it/s]\n",
      "100%|██████████| 63/63 [00:03<00:00, 16.81it/s]\n",
      "100%|██████████| 63/63 [00:03<00:00, 16.96it/s]\n",
      "100%|██████████| 63/63 [00:04<00:00, 14.35it/s]\n",
      "100%|██████████| 63/63 [00:03<00:00, 16.25it/s]\n"
     ]
    },
    {
     "name": "stdout",
     "output_type": "stream",
     "text": [
      "Epoch 33 | Average Loss: 0.8772\n",
      "Recall@10: 0.1054 | Recall@20: 0.1601\n"
     ]
    },
    {
     "name": "stderr",
     "output_type": "stream",
     "text": [
      "100%|██████████| 63/63 [00:05<00:00, 12.01it/s]\n",
      "100%|██████████| 63/63 [00:04<00:00, 13.45it/s]\n",
      "100%|██████████| 63/63 [00:04<00:00, 13.48it/s]\n",
      "100%|██████████| 63/63 [00:03<00:00, 17.77it/s]\n",
      "100%|██████████| 63/63 [00:03<00:00, 18.56it/s]\n"
     ]
    },
    {
     "name": "stdout",
     "output_type": "stream",
     "text": [
      "Epoch 34 | Average Loss: 0.8723\n",
      "Recall@10: 0.1140 | Recall@20: 0.1726\n"
     ]
    },
    {
     "name": "stderr",
     "output_type": "stream",
     "text": [
      "100%|██████████| 63/63 [00:03<00:00, 16.53it/s]\n",
      "100%|██████████| 63/63 [00:03<00:00, 16.35it/s]\n",
      "100%|██████████| 63/63 [00:03<00:00, 19.24it/s]\n",
      "100%|██████████| 63/63 [00:04<00:00, 13.48it/s]\n",
      "100%|██████████| 63/63 [00:03<00:00, 16.01it/s]\n"
     ]
    },
    {
     "name": "stdout",
     "output_type": "stream",
     "text": [
      "Epoch 35 | Average Loss: 0.8729\n",
      "Recall@10: 0.1076 | Recall@20: 0.1616\n"
     ]
    },
    {
     "name": "stderr",
     "output_type": "stream",
     "text": [
      "100%|██████████| 63/63 [00:03<00:00, 18.30it/s]\n",
      "100%|██████████| 63/63 [00:03<00:00, 19.41it/s]\n",
      "100%|██████████| 63/63 [00:03<00:00, 18.81it/s]\n",
      "100%|██████████| 63/63 [00:05<00:00, 11.90it/s]\n",
      "100%|██████████| 63/63 [00:04<00:00, 12.80it/s]\n"
     ]
    },
    {
     "name": "stdout",
     "output_type": "stream",
     "text": [
      "Epoch 36 | Average Loss: 0.8719\n",
      "Recall@10: 0.1146 | Recall@20: 0.1702\n"
     ]
    },
    {
     "name": "stderr",
     "output_type": "stream",
     "text": [
      "100%|██████████| 63/63 [00:04<00:00, 13.97it/s]\n",
      "100%|██████████| 63/63 [00:03<00:00, 16.02it/s]\n",
      "100%|██████████| 63/63 [00:03<00:00, 16.84it/s]\n",
      "100%|██████████| 63/63 [00:04<00:00, 14.81it/s]\n",
      "100%|██████████| 63/63 [00:03<00:00, 19.16it/s]\n"
     ]
    },
    {
     "name": "stdout",
     "output_type": "stream",
     "text": [
      "Epoch 37 | Average Loss: 0.8704\n",
      "Recall@10: 0.1072 | Recall@20: 0.1591\n"
     ]
    },
    {
     "name": "stderr",
     "output_type": "stream",
     "text": [
      "100%|██████████| 63/63 [00:04<00:00, 14.20it/s]\n",
      "100%|██████████| 63/63 [00:04<00:00, 13.08it/s]\n",
      "100%|██████████| 63/63 [00:03<00:00, 17.62it/s]\n",
      "100%|██████████| 63/63 [00:03<00:00, 19.68it/s]\n",
      "100%|██████████| 63/63 [00:03<00:00, 19.83it/s]\n"
     ]
    },
    {
     "name": "stdout",
     "output_type": "stream",
     "text": [
      "Epoch 38 | Average Loss: 0.8675\n",
      "Recall@10: 0.1078 | Recall@20: 0.1594\n"
     ]
    },
    {
     "name": "stderr",
     "output_type": "stream",
     "text": [
      "100%|██████████| 63/63 [00:03<00:00, 20.18it/s]\n",
      "100%|██████████| 63/63 [00:03<00:00, 16.62it/s]\n",
      "100%|██████████| 63/63 [00:06<00:00,  9.48it/s]\n",
      "100%|██████████| 63/63 [00:05<00:00, 11.70it/s]\n",
      "100%|██████████| 63/63 [00:04<00:00, 15.09it/s]\n"
     ]
    },
    {
     "name": "stdout",
     "output_type": "stream",
     "text": [
      "Epoch 39 | Average Loss: 0.8708\n",
      "Recall@10: 0.1068 | Recall@20: 0.1552\n"
     ]
    },
    {
     "name": "stderr",
     "output_type": "stream",
     "text": [
      "100%|██████████| 63/63 [00:05<00:00, 11.64it/s]\n",
      "100%|██████████| 63/63 [00:04<00:00, 15.44it/s]\n",
      "100%|██████████| 63/63 [00:03<00:00, 18.25it/s]\n",
      "100%|██████████| 63/63 [00:03<00:00, 17.20it/s]\n",
      "100%|██████████| 63/63 [00:04<00:00, 13.88it/s]\n"
     ]
    },
    {
     "name": "stdout",
     "output_type": "stream",
     "text": [
      "Epoch 40 | Average Loss: 0.8693\n",
      "Recall@10: 0.0973 | Recall@20: 0.1471\n"
     ]
    },
    {
     "name": "stderr",
     "output_type": "stream",
     "text": [
      "100%|██████████| 63/63 [00:04<00:00, 14.07it/s]\n",
      "100%|██████████| 63/63 [00:03<00:00, 16.44it/s]\n",
      "100%|██████████| 63/63 [00:03<00:00, 17.42it/s]\n",
      "100%|██████████| 63/63 [00:03<00:00, 18.23it/s]\n",
      "100%|██████████| 63/63 [00:03<00:00, 19.85it/s]\n"
     ]
    },
    {
     "name": "stdout",
     "output_type": "stream",
     "text": [
      "Epoch 41 | Average Loss: 0.8680\n",
      "Recall@10: 0.1087 | Recall@20: 0.1560\n"
     ]
    },
    {
     "name": "stderr",
     "output_type": "stream",
     "text": [
      "100%|██████████| 63/63 [00:03<00:00, 17.63it/s]\n",
      "100%|██████████| 63/63 [00:04<00:00, 12.92it/s]\n",
      "100%|██████████| 63/63 [00:04<00:00, 14.26it/s]\n",
      "100%|██████████| 63/63 [00:04<00:00, 15.32it/s]\n",
      "100%|██████████| 63/63 [00:04<00:00, 13.78it/s]\n"
     ]
    },
    {
     "name": "stdout",
     "output_type": "stream",
     "text": [
      "Epoch 42 | Average Loss: 0.8656\n",
      "Recall@10: 0.1033 | Recall@20: 0.1569\n"
     ]
    },
    {
     "name": "stderr",
     "output_type": "stream",
     "text": [
      "100%|██████████| 63/63 [00:03<00:00, 15.92it/s]\n",
      "100%|██████████| 63/63 [00:03<00:00, 18.80it/s]\n",
      "100%|██████████| 63/63 [00:04<00:00, 14.18it/s]\n",
      "100%|██████████| 63/63 [00:04<00:00, 14.01it/s]\n",
      "100%|██████████| 63/63 [00:04<00:00, 14.65it/s]\n"
     ]
    },
    {
     "name": "stdout",
     "output_type": "stream",
     "text": [
      "Epoch 43 | Average Loss: 0.8620\n",
      "Recall@10: 0.1161 | Recall@20: 0.1664\n"
     ]
    },
    {
     "name": "stderr",
     "output_type": "stream",
     "text": [
      "100%|██████████| 63/63 [00:03<00:00, 18.31it/s]\n",
      "100%|██████████| 63/63 [00:03<00:00, 19.37it/s]\n",
      "100%|██████████| 63/63 [00:03<00:00, 17.31it/s]\n",
      "100%|██████████| 63/63 [00:03<00:00, 19.75it/s]\n",
      "100%|██████████| 63/63 [00:03<00:00, 20.51it/s]\n"
     ]
    },
    {
     "name": "stdout",
     "output_type": "stream",
     "text": [
      "Epoch 44 | Average Loss: 0.8643\n",
      "Recall@10: 0.1105 | Recall@20: 0.1562\n"
     ]
    },
    {
     "name": "stderr",
     "output_type": "stream",
     "text": [
      "100%|██████████| 63/63 [00:04<00:00, 15.44it/s]\n",
      "100%|██████████| 63/63 [00:03<00:00, 16.07it/s]\n",
      "100%|██████████| 63/63 [00:04<00:00, 15.07it/s]\n",
      "100%|██████████| 63/63 [00:04<00:00, 15.35it/s]\n",
      "100%|██████████| 63/63 [00:05<00:00, 12.05it/s]\n"
     ]
    },
    {
     "name": "stdout",
     "output_type": "stream",
     "text": [
      "Epoch 45 | Average Loss: 0.8654\n",
      "Recall@10: 0.1083 | Recall@20: 0.1572\n"
     ]
    },
    {
     "name": "stderr",
     "output_type": "stream",
     "text": [
      "100%|██████████| 63/63 [00:03<00:00, 18.93it/s]\n",
      "100%|██████████| 63/63 [00:03<00:00, 18.04it/s]\n",
      "100%|██████████| 63/63 [00:05<00:00, 11.81it/s]\n",
      "100%|██████████| 63/63 [00:03<00:00, 17.90it/s]\n",
      "100%|██████████| 63/63 [00:04<00:00, 14.01it/s]\n"
     ]
    },
    {
     "name": "stdout",
     "output_type": "stream",
     "text": [
      "Epoch 46 | Average Loss: 0.8619\n",
      "Recall@10: 0.1112 | Recall@20: 0.1587\n"
     ]
    },
    {
     "name": "stderr",
     "output_type": "stream",
     "text": [
      "100%|██████████| 63/63 [00:03<00:00, 16.86it/s]\n",
      "100%|██████████| 63/63 [00:03<00:00, 17.09it/s]\n",
      "100%|██████████| 63/63 [00:03<00:00, 17.59it/s]\n",
      "100%|██████████| 63/63 [00:05<00:00, 11.78it/s]\n",
      "100%|██████████| 63/63 [00:04<00:00, 14.11it/s]\n"
     ]
    },
    {
     "name": "stdout",
     "output_type": "stream",
     "text": [
      "Epoch 47 | Average Loss: 0.8618\n",
      "Recall@10: 0.1137 | Recall@20: 0.1661\n"
     ]
    },
    {
     "name": "stderr",
     "output_type": "stream",
     "text": [
      "100%|██████████| 63/63 [00:04<00:00, 15.40it/s]\n",
      "100%|██████████| 63/63 [00:03<00:00, 17.21it/s]\n",
      "100%|██████████| 63/63 [00:06<00:00, 10.33it/s]\n",
      "100%|██████████| 63/63 [00:03<00:00, 17.33it/s]\n",
      "100%|██████████| 63/63 [00:03<00:00, 17.04it/s]\n"
     ]
    },
    {
     "name": "stdout",
     "output_type": "stream",
     "text": [
      "Epoch 48 | Average Loss: 0.8598\n",
      "Recall@10: 0.1074 | Recall@20: 0.1538\n"
     ]
    },
    {
     "name": "stderr",
     "output_type": "stream",
     "text": [
      "100%|██████████| 63/63 [00:05<00:00, 12.21it/s]\n",
      "100%|██████████| 63/63 [00:04<00:00, 15.37it/s]\n",
      "100%|██████████| 63/63 [00:03<00:00, 19.48it/s]\n",
      "100%|██████████| 63/63 [00:03<00:00, 18.81it/s]\n",
      "100%|██████████| 63/63 [00:03<00:00, 16.24it/s]\n"
     ]
    },
    {
     "name": "stdout",
     "output_type": "stream",
     "text": [
      "Epoch 49 | Average Loss: 0.8632\n",
      "Recall@10: 0.1106 | Recall@20: 0.1645\n"
     ]
    }
   ],
   "source": [
    "def calculate_recall_at_k_fixed(eval_ids, predicted_indices, k):\n",
    "    \"\"\"\n",
    "    Calculate recall@k for evaluation nodes, mapping indices back to global IDs.\n",
    "    Args:\n",
    "        eval_ids: List of evaluation node IDs (global IDs)\n",
    "        predicted_indices: Tensor of predicted train node indices for each eval node\n",
    "        k: Number of top predictions to consider\n",
    "        train_ids_list: List of train node IDs (global IDs) in the same order as used in the model\n",
    "    Returns:\n",
    "        recall: Recall@k value\n",
    "    \"\"\"\n",
    "    relevant_count = 0\n",
    "    total_relevant = 0\n",
    "    \n",
    "    for eval_idx, eval_id in enumerate(eval_ids):\n",
    "        paper = paper_records[eval_id]\n",
    "        true_references = set(ref for ref in paper['reference_ids'] if ref in train_ids)\n",
    "        true_references = set([train_ids_nums[i] for i in true_references])\n",
    "        total_relevant += len(true_references)\n",
    "        \n",
    "        # Map predicted indices back to global IDs\n",
    "        predicted_refs = predicted_indices[eval_idx, :k].cpu().tolist()\n",
    "        # predicted_refs = set(train_ids_list[idx] for idx in pred_indices)\n",
    "        \n",
    "        relevant_count += len(true_references.intersection(predicted_refs))\n",
    "    \n",
    "    if total_relevant == 0:\n",
    "        return 0.0\n",
    "    \n",
    "    return relevant_count / total_relevant\n",
    "\n",
    "in_dim = train_feats.shape[1]\n",
    "hidden_dim = 128\n",
    "num_heads = 4\n",
    "\n",
    "class DotLinkPredictor(nn.Module):\n",
    "    def forward(self, h, src_idx, dst_idx):\n",
    "        return (h[src_idx] * h[dst_idx]).sum(dim=-1)\n",
    "    \n",
    "    # Alternative implementation that avoids the in-place operation issue\n",
    "class GATLinkPredictorFixed(nn.Module):\n",
    "    def __init__(self, in_dim, hidden_dim, num_heads):\n",
    "        super(GATLinkPredictorFixed, self).__init__()\n",
    "        self.gat1 = GATConv(in_dim, hidden_dim, num_heads)\n",
    "        self.gat2 = GATConv(hidden_dim * num_heads, hidden_dim, 1)\n",
    "        \n",
    "    # def encode_without_graph(self, features):\n",
    "    #     \"\"\"Process nodes without graph structure (for evaluation)\"\"\"\n",
    "    #     h = self.gat1(features, edge_index=None)\n",
    "    #     h = F.elu(h.flatten(1))\n",
    "    #     h = self.gat2(h, edge_index=None).squeeze(1)\n",
    "    #     return h\n",
    "    \n",
    "    def forward(self, g, features):\n",
    "        # For NetworkX graph compatibility\n",
    "        if isinstance(g, nx.DiGraph):\n",
    "            edge_index = torch.tensor(list(g.edges())).t().to(device)\n",
    "            # create empty tensor of size (2, num_edges)\n",
    "            if edge_index.shape[0] == 0:\n",
    "                edge_index = torch.zeros((2, len(eval_edges)), dtype=torch.long).to(device)\n",
    "            h = self.gat1(features, edge_index)\n",
    "            h = F.elu(h.flatten(1))\n",
    "            h = self.gat2(h, edge_index).squeeze(1)\n",
    "        else:\n",
    "            # Original implementation for other graph types\n",
    "            h = self.gat1(g, features)\n",
    "            h = F.elu(h.flatten(1))\n",
    "            h = self.gat2(g, h).squeeze(1)\n",
    "        return h\n",
    "\n",
    "# Fixed training loop\n",
    "model_fixed = GATLinkPredictorFixed(in_dim, hidden_dim, num_heads).to(device)\n",
    "predictor = DotLinkPredictor()\n",
    "optimizer = torch.optim.Adam(list(model_fixed.parameters()) + list(predictor.parameters()), lr=1e-3)\n",
    "\n",
    "for epoch in range(50):\n",
    "    model_fixed.train()\n",
    "    \n",
    "    # Get edges for training\n",
    "    edge_list = list(train_graph.edges())\n",
    "    src, dst = zip(*edge_list)\n",
    "    src = torch.tensor(src, dtype=torch.long).to(device)\n",
    "    dst = torch.tensor(dst, dtype=torch.long).to(device)\n",
    "    n_edges = src.shape[0]\n",
    "    \n",
    "    # Process all edges in a single batch with multiple epochs\n",
    "    # This prevents in-place modification issues\n",
    "    batch_losses = []\n",
    "    \n",
    "    # Process in smaller sub-epochs\n",
    "    for sub_epoch in range(5):  # 5 sub-epochs per epoch\n",
    "        perm = torch.randperm(n_edges)\n",
    "        \n",
    "        for i in tqdm(range(0, n_edges, 1024)):\n",
    "            # Get embeddings for all nodes\n",
    "            h = model_fixed(train_graph, train_feats)\n",
    "            \n",
    "            batch_src = src[perm[i:i+1024]]\n",
    "            batch_dst = dst[perm[i:i+1024]]\n",
    "            \n",
    "            # Negative sampling\n",
    "            neg_dst = torch.randint(0, h.shape[0], batch_dst.shape, dtype=torch.long).to(device)\n",
    "            \n",
    "            pos_score = predictor(h, batch_src, batch_dst)\n",
    "            neg_score = predictor(h, batch_src, neg_dst)\n",
    "            \n",
    "            loss = compute_loss(pos_score, neg_score)\n",
    "            batch_losses.append(loss.item())\n",
    "            \n",
    "            optimizer.zero_grad()\n",
    "            loss.backward()  # No retain_graph needed\n",
    "            optimizer.step()\n",
    "    \n",
    "    avg_loss = sum(batch_losses) / len(batch_losses)\n",
    "    print(f\"Epoch {epoch} | Average Loss: {avg_loss:.4f}\")\n",
    "    \n",
    "    # Evaluation\n",
    "    model_fixed.eval()\n",
    "    with torch.no_grad():\n",
    "        # Get train node embeddings\n",
    "        train_embs = model_fixed(train_graph, train_feats)\n",
    "        \n",
    "        # Get eval node embeddings without graph structure\n",
    "        eval_embs = model_fixed(eval_graph, eval_feats)\n",
    "        \n",
    "        # Compute similarity scores\n",
    "        scores = torch.matmul(eval_embs, train_embs.T)\n",
    "        \n",
    "        # Get top-k predictions\n",
    "        topk = torch.topk(scores, k=20, dim=1)\n",
    "        predicted_indices = topk.indices\n",
    "        \n",
    "        # Calculate recall@k with the fixed function\n",
    "        recall_at_10 = calculate_recall_at_k_fixed(eval_ids, predicted_indices, 10)\n",
    "        recall_at_20 = calculate_recall_at_k_fixed(eval_ids, predicted_indices, 20)\n",
    "        \n",
    "        print(f\"Recall@10: {recall_at_10:.4f} | Recall@20: {recall_at_20:.4f}\")"
   ]
  },
  {
   "cell_type": "code",
   "execution_count": 8,
   "id": "96567e66",
   "metadata": {},
   "outputs": [
    {
     "name": "stderr",
     "output_type": "stream",
     "text": [
      "100%|██████████| 63/63 [00:04<00:00, 14.63it/s]\n",
      "100%|██████████| 63/63 [00:04<00:00, 13.88it/s]\n",
      "100%|██████████| 63/63 [00:03<00:00, 18.48it/s]\n",
      "100%|██████████| 63/63 [00:03<00:00, 19.19it/s]\n",
      "100%|██████████| 63/63 [00:03<00:00, 19.65it/s]\n"
     ]
    },
    {
     "name": "stdout",
     "output_type": "stream",
     "text": [
      "Epoch 0 | Average Loss: 0.8395\n",
      "Recall@10: 0.1176 | Recall@20: 0.1656\n"
     ]
    },
    {
     "name": "stderr",
     "output_type": "stream",
     "text": [
      "100%|██████████| 63/63 [00:03<00:00, 16.98it/s]\n",
      "100%|██████████| 63/63 [00:05<00:00, 11.73it/s]\n",
      "100%|██████████| 63/63 [00:05<00:00, 12.50it/s]\n",
      "100%|██████████| 63/63 [00:04<00:00, 13.47it/s]\n",
      "100%|██████████| 63/63 [00:03<00:00, 15.94it/s]\n"
     ]
    },
    {
     "name": "stdout",
     "output_type": "stream",
     "text": [
      "Epoch 1 | Average Loss: 0.8387\n",
      "Recall@10: 0.1208 | Recall@20: 0.1733\n"
     ]
    },
    {
     "name": "stderr",
     "output_type": "stream",
     "text": [
      "100%|██████████| 63/63 [00:03<00:00, 18.56it/s]\n",
      "100%|██████████| 63/63 [00:03<00:00, 19.44it/s]\n",
      "100%|██████████| 63/63 [00:03<00:00, 16.40it/s]\n",
      "100%|██████████| 63/63 [00:04<00:00, 14.64it/s]\n",
      "100%|██████████| 63/63 [00:04<00:00, 15.36it/s]\n"
     ]
    },
    {
     "name": "stdout",
     "output_type": "stream",
     "text": [
      "Epoch 2 | Average Loss: 0.8390\n",
      "Recall@10: 0.1123 | Recall@20: 0.1596\n"
     ]
    },
    {
     "name": "stderr",
     "output_type": "stream",
     "text": [
      "100%|██████████| 63/63 [00:03<00:00, 17.55it/s]\n",
      "100%|██████████| 63/63 [00:03<00:00, 19.60it/s]\n",
      "100%|██████████| 63/63 [00:03<00:00, 19.64it/s]\n",
      "100%|██████████| 63/63 [00:03<00:00, 19.61it/s]\n",
      "100%|██████████| 63/63 [00:04<00:00, 13.77it/s]\n"
     ]
    },
    {
     "name": "stdout",
     "output_type": "stream",
     "text": [
      "Epoch 3 | Average Loss: 0.8408\n",
      "Recall@10: 0.1140 | Recall@20: 0.1590\n"
     ]
    },
    {
     "name": "stderr",
     "output_type": "stream",
     "text": [
      "100%|██████████| 63/63 [00:04<00:00, 14.21it/s]\n",
      "100%|██████████| 63/63 [00:03<00:00, 16.06it/s]\n",
      "100%|██████████| 63/63 [00:03<00:00, 16.94it/s]\n",
      "100%|██████████| 63/63 [00:04<00:00, 13.73it/s]\n",
      "100%|██████████| 63/63 [00:03<00:00, 16.34it/s]\n"
     ]
    },
    {
     "name": "stdout",
     "output_type": "stream",
     "text": [
      "Epoch 4 | Average Loss: 0.8377\n",
      "Recall@10: 0.1185 | Recall@20: 0.1670\n"
     ]
    },
    {
     "name": "stderr",
     "output_type": "stream",
     "text": [
      "100%|██████████| 63/63 [00:04<00:00, 13.23it/s]\n",
      "100%|██████████| 63/63 [00:04<00:00, 12.84it/s]\n",
      "100%|██████████| 63/63 [00:03<00:00, 17.29it/s]\n",
      "100%|██████████| 63/63 [00:05<00:00, 12.38it/s]\n",
      "100%|██████████| 63/63 [00:04<00:00, 13.40it/s]\n"
     ]
    },
    {
     "name": "stdout",
     "output_type": "stream",
     "text": [
      "Epoch 5 | Average Loss: 0.8382\n",
      "Recall@10: 0.1201 | Recall@20: 0.1662\n"
     ]
    },
    {
     "name": "stderr",
     "output_type": "stream",
     "text": [
      "100%|██████████| 63/63 [00:03<00:00, 17.03it/s]\n",
      "100%|██████████| 63/63 [00:03<00:00, 18.80it/s]\n",
      "100%|██████████| 63/63 [00:03<00:00, 19.07it/s]\n",
      "100%|██████████| 63/63 [00:03<00:00, 18.46it/s]\n",
      "100%|██████████| 63/63 [00:04<00:00, 13.40it/s]\n"
     ]
    },
    {
     "name": "stdout",
     "output_type": "stream",
     "text": [
      "Epoch 6 | Average Loss: 0.8377\n",
      "Recall@10: 0.1176 | Recall@20: 0.1713\n"
     ]
    },
    {
     "name": "stderr",
     "output_type": "stream",
     "text": [
      "100%|██████████| 63/63 [00:06<00:00,  9.85it/s]\n",
      "100%|██████████| 63/63 [00:04<00:00, 15.29it/s]\n",
      "100%|██████████| 63/63 [00:04<00:00, 15.46it/s]\n",
      "100%|██████████| 63/63 [00:03<00:00, 18.87it/s]\n",
      "100%|██████████| 63/63 [00:03<00:00, 17.86it/s]\n"
     ]
    },
    {
     "name": "stdout",
     "output_type": "stream",
     "text": [
      "Epoch 7 | Average Loss: 0.8381\n",
      "Recall@10: 0.1197 | Recall@20: 0.1710\n"
     ]
    },
    {
     "name": "stderr",
     "output_type": "stream",
     "text": [
      "100%|██████████| 63/63 [00:03<00:00, 16.03it/s]\n",
      "100%|██████████| 63/63 [00:04<00:00, 15.74it/s]\n",
      "100%|██████████| 63/63 [00:05<00:00, 11.20it/s]\n",
      "100%|██████████| 63/63 [00:04<00:00, 15.42it/s]\n",
      "100%|██████████| 63/63 [00:03<00:00, 18.95it/s]\n"
     ]
    },
    {
     "name": "stdout",
     "output_type": "stream",
     "text": [
      "Epoch 8 | Average Loss: 0.8362\n",
      "Recall@10: 0.1138 | Recall@20: 0.1706\n"
     ]
    },
    {
     "name": "stderr",
     "output_type": "stream",
     "text": [
      "100%|██████████| 63/63 [00:03<00:00, 19.55it/s]\n",
      "100%|██████████| 63/63 [00:03<00:00, 19.50it/s]\n",
      "100%|██████████| 63/63 [00:04<00:00, 15.68it/s]\n",
      "100%|██████████| 63/63 [00:04<00:00, 13.73it/s]\n",
      "100%|██████████| 63/63 [00:04<00:00, 13.91it/s]\n"
     ]
    },
    {
     "name": "stdout",
     "output_type": "stream",
     "text": [
      "Epoch 9 | Average Loss: 0.8370\n",
      "Recall@10: 0.1160 | Recall@20: 0.1737\n"
     ]
    },
    {
     "name": "stderr",
     "output_type": "stream",
     "text": [
      "100%|██████████| 63/63 [00:03<00:00, 16.78it/s]\n",
      "100%|██████████| 63/63 [00:04<00:00, 12.76it/s]\n",
      "100%|██████████| 63/63 [00:04<00:00, 13.12it/s]\n",
      "100%|██████████| 63/63 [00:03<00:00, 18.46it/s]\n",
      "100%|██████████| 63/63 [00:03<00:00, 16.52it/s]\n"
     ]
    },
    {
     "name": "stdout",
     "output_type": "stream",
     "text": [
      "Epoch 10 | Average Loss: 0.8361\n",
      "Recall@10: 0.1244 | Recall@20: 0.1765\n"
     ]
    },
    {
     "name": "stderr",
     "output_type": "stream",
     "text": [
      "100%|██████████| 63/63 [00:03<00:00, 15.85it/s]\n",
      "100%|██████████| 63/63 [00:04<00:00, 14.45it/s]\n",
      "100%|██████████| 63/63 [00:03<00:00, 17.24it/s]\n",
      "100%|██████████| 63/63 [00:03<00:00, 18.37it/s]\n",
      "100%|██████████| 63/63 [00:03<00:00, 19.10it/s]\n"
     ]
    },
    {
     "name": "stdout",
     "output_type": "stream",
     "text": [
      "Epoch 11 | Average Loss: 0.8346\n",
      "Recall@10: 0.1194 | Recall@20: 0.1714\n"
     ]
    },
    {
     "name": "stderr",
     "output_type": "stream",
     "text": [
      "100%|██████████| 63/63 [00:03<00:00, 19.06it/s]\n",
      "100%|██████████| 63/63 [00:04<00:00, 14.26it/s]\n",
      "100%|██████████| 63/63 [00:04<00:00, 14.08it/s]\n",
      "100%|██████████| 63/63 [00:04<00:00, 13.57it/s]\n",
      "100%|██████████| 63/63 [00:04<00:00, 13.99it/s]\n"
     ]
    },
    {
     "name": "stdout",
     "output_type": "stream",
     "text": [
      "Epoch 12 | Average Loss: 0.8346\n",
      "Recall@10: 0.1015 | Recall@20: 0.1438\n"
     ]
    },
    {
     "name": "stderr",
     "output_type": "stream",
     "text": [
      "100%|██████████| 63/63 [00:03<00:00, 16.53it/s]\n",
      "100%|██████████| 63/63 [00:03<00:00, 19.34it/s]\n",
      "100%|██████████| 63/63 [00:03<00:00, 20.21it/s]\n",
      "100%|██████████| 63/63 [00:04<00:00, 13.40it/s]\n",
      "100%|██████████| 63/63 [00:04<00:00, 13.70it/s]\n"
     ]
    },
    {
     "name": "stdout",
     "output_type": "stream",
     "text": [
      "Epoch 13 | Average Loss: 0.8369\n",
      "Recall@10: 0.1175 | Recall@20: 0.1661\n"
     ]
    },
    {
     "name": "stderr",
     "output_type": "stream",
     "text": [
      "100%|██████████| 63/63 [00:04<00:00, 15.17it/s]\n",
      "100%|██████████| 63/63 [00:03<00:00, 19.43it/s]\n",
      "100%|██████████| 63/63 [00:03<00:00, 19.61it/s]\n",
      "100%|██████████| 63/63 [00:03<00:00, 20.16it/s]\n",
      "100%|██████████| 63/63 [00:03<00:00, 19.15it/s]\n"
     ]
    },
    {
     "name": "stdout",
     "output_type": "stream",
     "text": [
      "Epoch 14 | Average Loss: 0.8346\n",
      "Recall@10: 0.1174 | Recall@20: 0.1630\n"
     ]
    },
    {
     "name": "stderr",
     "output_type": "stream",
     "text": [
      "100%|██████████| 63/63 [00:03<00:00, 16.01it/s]\n",
      "100%|██████████| 63/63 [00:04<00:00, 15.45it/s]\n",
      "100%|██████████| 63/63 [00:03<00:00, 16.22it/s]\n",
      "100%|██████████| 63/63 [00:03<00:00, 18.50it/s]\n",
      "100%|██████████| 63/63 [00:03<00:00, 17.69it/s]\n"
     ]
    },
    {
     "name": "stdout",
     "output_type": "stream",
     "text": [
      "Epoch 15 | Average Loss: 0.8374\n",
      "Recall@10: 0.1175 | Recall@20: 0.1652\n"
     ]
    },
    {
     "name": "stderr",
     "output_type": "stream",
     "text": [
      "100%|██████████| 63/63 [00:03<00:00, 18.75it/s]\n",
      "100%|██████████| 63/63 [00:03<00:00, 19.45it/s]\n",
      "100%|██████████| 63/63 [00:03<00:00, 16.92it/s]\n",
      "100%|██████████| 63/63 [00:04<00:00, 14.22it/s]\n",
      "100%|██████████| 63/63 [00:04<00:00, 15.64it/s]\n"
     ]
    },
    {
     "name": "stdout",
     "output_type": "stream",
     "text": [
      "Epoch 16 | Average Loss: 0.8336\n",
      "Recall@10: 0.1233 | Recall@20: 0.1755\n"
     ]
    },
    {
     "name": "stderr",
     "output_type": "stream",
     "text": [
      "100%|██████████| 63/63 [00:04<00:00, 15.73it/s]\n",
      "100%|██████████| 63/63 [00:03<00:00, 17.47it/s]\n",
      "100%|██████████| 63/63 [00:03<00:00, 17.63it/s]\n",
      "100%|██████████| 63/63 [00:03<00:00, 18.28it/s]\n",
      "100%|██████████| 63/63 [00:03<00:00, 18.21it/s]\n"
     ]
    },
    {
     "name": "stdout",
     "output_type": "stream",
     "text": [
      "Epoch 17 | Average Loss: 0.8369\n",
      "Recall@10: 0.1164 | Recall@20: 0.1672\n"
     ]
    },
    {
     "name": "stderr",
     "output_type": "stream",
     "text": [
      "100%|██████████| 63/63 [00:03<00:00, 16.05it/s]\n",
      "100%|██████████| 63/63 [00:04<00:00, 15.74it/s]\n",
      "100%|██████████| 63/63 [00:04<00:00, 14.76it/s]\n",
      "100%|██████████| 63/63 [00:04<00:00, 15.69it/s]\n",
      "100%|██████████| 63/63 [00:03<00:00, 18.54it/s]\n"
     ]
    },
    {
     "name": "stdout",
     "output_type": "stream",
     "text": [
      "Epoch 18 | Average Loss: 0.8331\n",
      "Recall@10: 0.1212 | Recall@20: 0.1750\n"
     ]
    },
    {
     "name": "stderr",
     "output_type": "stream",
     "text": [
      "100%|██████████| 63/63 [00:03<00:00, 18.76it/s]\n",
      "100%|██████████| 63/63 [00:04<00:00, 13.49it/s]\n",
      "100%|██████████| 63/63 [00:03<00:00, 18.62it/s]\n",
      "100%|██████████| 63/63 [00:03<00:00, 19.32it/s]\n",
      "100%|██████████| 63/63 [00:04<00:00, 14.09it/s]\n"
     ]
    },
    {
     "name": "stdout",
     "output_type": "stream",
     "text": [
      "Epoch 19 | Average Loss: 0.8348\n",
      "Recall@10: 0.1216 | Recall@20: 0.1737\n"
     ]
    },
    {
     "name": "stderr",
     "output_type": "stream",
     "text": [
      "100%|██████████| 63/63 [00:04<00:00, 14.39it/s]\n",
      "100%|██████████| 63/63 [00:03<00:00, 17.78it/s]\n",
      "100%|██████████| 63/63 [00:03<00:00, 18.85it/s]\n",
      "100%|██████████| 63/63 [00:03<00:00, 19.15it/s]\n",
      "100%|██████████| 63/63 [00:03<00:00, 19.17it/s]\n"
     ]
    },
    {
     "name": "stdout",
     "output_type": "stream",
     "text": [
      "Epoch 20 | Average Loss: 0.8362\n",
      "Recall@10: 0.1097 | Recall@20: 0.1588\n"
     ]
    },
    {
     "name": "stderr",
     "output_type": "stream",
     "text": [
      "100%|██████████| 63/63 [00:03<00:00, 16.10it/s]\n",
      "100%|██████████| 63/63 [00:04<00:00, 15.07it/s]\n",
      "100%|██████████| 63/63 [00:03<00:00, 16.31it/s]\n",
      "100%|██████████| 63/63 [00:03<00:00, 16.12it/s]\n",
      "100%|██████████| 63/63 [00:03<00:00, 17.86it/s]\n"
     ]
    },
    {
     "name": "stdout",
     "output_type": "stream",
     "text": [
      "Epoch 21 | Average Loss: 0.8370\n",
      "Recall@10: 0.1167 | Recall@20: 0.1662\n"
     ]
    },
    {
     "name": "stderr",
     "output_type": "stream",
     "text": [
      "100%|██████████| 63/63 [00:03<00:00, 16.66it/s]\n",
      "100%|██████████| 63/63 [00:03<00:00, 19.17it/s]\n",
      "100%|██████████| 63/63 [00:03<00:00, 19.28it/s]\n",
      "100%|██████████| 63/63 [00:03<00:00, 18.98it/s]\n",
      "100%|██████████| 63/63 [00:03<00:00, 16.60it/s]\n"
     ]
    },
    {
     "name": "stdout",
     "output_type": "stream",
     "text": [
      "Epoch 22 | Average Loss: 0.8324\n",
      "Recall@10: 0.1192 | Recall@20: 0.1650\n"
     ]
    },
    {
     "name": "stderr",
     "output_type": "stream",
     "text": [
      "100%|██████████| 63/63 [00:03<00:00, 16.40it/s]\n",
      "100%|██████████| 63/63 [00:03<00:00, 16.54it/s]\n",
      "100%|██████████| 63/63 [00:03<00:00, 18.60it/s]\n",
      "100%|██████████| 63/63 [00:03<00:00, 18.69it/s]\n",
      "100%|██████████| 63/63 [00:03<00:00, 18.88it/s]\n"
     ]
    },
    {
     "name": "stdout",
     "output_type": "stream",
     "text": [
      "Epoch 23 | Average Loss: 0.8363\n",
      "Recall@10: 0.1210 | Recall@20: 0.1685\n"
     ]
    },
    {
     "name": "stderr",
     "output_type": "stream",
     "text": [
      "100%|██████████| 63/63 [00:03<00:00, 17.71it/s]\n",
      "100%|██████████| 63/63 [00:03<00:00, 16.81it/s]\n",
      "100%|██████████| 63/63 [00:04<00:00, 15.67it/s]\n",
      "100%|██████████| 63/63 [00:03<00:00, 16.23it/s]\n",
      "100%|██████████| 63/63 [00:03<00:00, 16.39it/s]\n"
     ]
    },
    {
     "name": "stdout",
     "output_type": "stream",
     "text": [
      "Epoch 24 | Average Loss: 0.8353\n",
      "Recall@10: 0.1184 | Recall@20: 0.1740\n"
     ]
    },
    {
     "name": "stderr",
     "output_type": "stream",
     "text": [
      "100%|██████████| 63/63 [00:03<00:00, 18.08it/s]\n",
      "100%|██████████| 63/63 [00:03<00:00, 17.91it/s]\n",
      "100%|██████████| 63/63 [00:03<00:00, 18.43it/s]\n",
      "100%|██████████| 63/63 [00:03<00:00, 18.74it/s]\n",
      "100%|██████████| 63/63 [00:03<00:00, 16.97it/s]\n"
     ]
    },
    {
     "name": "stdout",
     "output_type": "stream",
     "text": [
      "Epoch 25 | Average Loss: 0.8347\n",
      "Recall@10: 0.1166 | Recall@20: 0.1702\n"
     ]
    },
    {
     "name": "stderr",
     "output_type": "stream",
     "text": [
      "100%|██████████| 63/63 [00:04<00:00, 15.69it/s]\n",
      "100%|██████████| 63/63 [00:03<00:00, 16.13it/s]\n",
      "100%|██████████| 63/63 [00:03<00:00, 19.61it/s]\n",
      "100%|██████████| 63/63 [00:03<00:00, 19.85it/s]\n",
      "100%|██████████| 63/63 [00:03<00:00, 20.05it/s]\n"
     ]
    },
    {
     "name": "stdout",
     "output_type": "stream",
     "text": [
      "Epoch 26 | Average Loss: 0.8347\n",
      "Recall@10: 0.1157 | Recall@20: 0.1669\n"
     ]
    },
    {
     "name": "stderr",
     "output_type": "stream",
     "text": [
      "100%|██████████| 63/63 [00:03<00:00, 17.24it/s]\n",
      "100%|██████████| 63/63 [00:04<00:00, 14.94it/s]\n",
      "100%|██████████| 63/63 [00:04<00:00, 13.28it/s]\n",
      "100%|██████████| 63/63 [00:04<00:00, 14.93it/s]\n",
      "100%|██████████| 63/63 [00:04<00:00, 14.06it/s]\n"
     ]
    },
    {
     "name": "stdout",
     "output_type": "stream",
     "text": [
      "Epoch 27 | Average Loss: 0.8335\n",
      "Recall@10: 0.1264 | Recall@20: 0.1817\n"
     ]
    },
    {
     "name": "stderr",
     "output_type": "stream",
     "text": [
      "100%|██████████| 63/63 [00:03<00:00, 15.81it/s]\n",
      "100%|██████████| 63/63 [00:03<00:00, 19.45it/s]\n",
      "100%|██████████| 63/63 [00:03<00:00, 19.97it/s]\n",
      "100%|██████████| 63/63 [00:03<00:00, 20.06it/s]\n",
      "100%|██████████| 63/63 [00:03<00:00, 19.33it/s]\n"
     ]
    },
    {
     "name": "stdout",
     "output_type": "stream",
     "text": [
      "Epoch 28 | Average Loss: 0.8336\n",
      "Recall@10: 0.1190 | Recall@20: 0.1684\n"
     ]
    },
    {
     "name": "stderr",
     "output_type": "stream",
     "text": [
      "100%|██████████| 63/63 [00:03<00:00, 18.14it/s]\n",
      "100%|██████████| 63/63 [00:03<00:00, 16.90it/s]\n",
      "100%|██████████| 63/63 [00:03<00:00, 16.67it/s]\n",
      "100%|██████████| 63/63 [00:03<00:00, 18.69it/s]\n",
      "100%|██████████| 63/63 [00:03<00:00, 17.13it/s]\n"
     ]
    },
    {
     "name": "stdout",
     "output_type": "stream",
     "text": [
      "Epoch 29 | Average Loss: 0.8308\n",
      "Recall@10: 0.1190 | Recall@20: 0.1719\n"
     ]
    },
    {
     "name": "stderr",
     "output_type": "stream",
     "text": [
      "100%|██████████| 63/63 [00:03<00:00, 17.81it/s]\n",
      "100%|██████████| 63/63 [00:03<00:00, 18.66it/s]\n",
      "100%|██████████| 63/63 [00:03<00:00, 18.34it/s]\n",
      "100%|██████████| 63/63 [00:04<00:00, 14.49it/s]\n",
      "100%|██████████| 63/63 [00:04<00:00, 13.64it/s]\n"
     ]
    },
    {
     "name": "stdout",
     "output_type": "stream",
     "text": [
      "Epoch 30 | Average Loss: 0.8322\n",
      "Recall@10: 0.1166 | Recall@20: 0.1656\n"
     ]
    },
    {
     "name": "stderr",
     "output_type": "stream",
     "text": [
      "100%|██████████| 63/63 [00:04<00:00, 12.88it/s]\n",
      "100%|██████████| 63/63 [00:04<00:00, 13.73it/s]\n",
      "100%|██████████| 63/63 [00:03<00:00, 17.01it/s]\n",
      "100%|██████████| 63/63 [00:04<00:00, 15.46it/s]\n",
      "100%|██████████| 63/63 [00:04<00:00, 14.99it/s]\n"
     ]
    },
    {
     "name": "stdout",
     "output_type": "stream",
     "text": [
      "Epoch 31 | Average Loss: 0.8346\n",
      "Recall@10: 0.1143 | Recall@20: 0.1675\n"
     ]
    },
    {
     "name": "stderr",
     "output_type": "stream",
     "text": [
      "100%|██████████| 63/63 [00:03<00:00, 18.62it/s]\n",
      "100%|██████████| 63/63 [00:03<00:00, 19.01it/s]\n",
      "100%|██████████| 63/63 [00:03<00:00, 19.63it/s]\n",
      "100%|██████████| 63/63 [00:04<00:00, 12.61it/s]\n",
      "100%|██████████| 63/63 [00:03<00:00, 17.54it/s]\n"
     ]
    },
    {
     "name": "stdout",
     "output_type": "stream",
     "text": [
      "Epoch 32 | Average Loss: 0.8374\n",
      "Recall@10: 0.1184 | Recall@20: 0.1703\n"
     ]
    },
    {
     "name": "stderr",
     "output_type": "stream",
     "text": [
      "100%|██████████| 63/63 [00:03<00:00, 18.15it/s]\n",
      "100%|██████████| 63/63 [00:03<00:00, 17.47it/s]\n",
      "100%|██████████| 63/63 [00:03<00:00, 19.11it/s]\n",
      "100%|██████████| 63/63 [00:03<00:00, 19.13it/s]\n",
      "100%|██████████| 63/63 [00:03<00:00, 19.50it/s]\n"
     ]
    },
    {
     "name": "stdout",
     "output_type": "stream",
     "text": [
      "Epoch 33 | Average Loss: 0.8338\n",
      "Recall@10: 0.1162 | Recall@20: 0.1621\n"
     ]
    },
    {
     "name": "stderr",
     "output_type": "stream",
     "text": [
      "100%|██████████| 63/63 [00:04<00:00, 14.50it/s]\n",
      "100%|██████████| 63/63 [00:04<00:00, 15.54it/s]\n",
      "100%|██████████| 63/63 [00:03<00:00, 16.39it/s]\n",
      "100%|██████████| 63/63 [00:03<00:00, 16.53it/s]\n",
      "100%|██████████| 63/63 [00:04<00:00, 15.72it/s]\n"
     ]
    },
    {
     "name": "stdout",
     "output_type": "stream",
     "text": [
      "Epoch 34 | Average Loss: 0.8327\n",
      "Recall@10: 0.1145 | Recall@20: 0.1591\n"
     ]
    },
    {
     "name": "stderr",
     "output_type": "stream",
     "text": [
      "100%|██████████| 63/63 [00:03<00:00, 18.99it/s]\n",
      "100%|██████████| 63/63 [00:03<00:00, 18.95it/s]\n",
      "100%|██████████| 63/63 [00:03<00:00, 19.10it/s]\n",
      "100%|██████████| 63/63 [00:05<00:00, 11.44it/s]\n",
      "100%|██████████| 63/63 [00:03<00:00, 16.74it/s]\n"
     ]
    },
    {
     "name": "stdout",
     "output_type": "stream",
     "text": [
      "Epoch 35 | Average Loss: 0.8332\n",
      "Recall@10: 0.1149 | Recall@20: 0.1604\n"
     ]
    },
    {
     "name": "stderr",
     "output_type": "stream",
     "text": [
      "100%|██████████| 63/63 [00:03<00:00, 16.35it/s]\n",
      "100%|██████████| 63/63 [00:03<00:00, 18.18it/s]\n",
      "100%|██████████| 63/63 [00:03<00:00, 17.98it/s]\n",
      "100%|██████████| 63/63 [00:03<00:00, 19.01it/s]\n",
      "100%|██████████| 63/63 [00:03<00:00, 18.77it/s]\n"
     ]
    },
    {
     "name": "stdout",
     "output_type": "stream",
     "text": [
      "Epoch 36 | Average Loss: 0.8342\n",
      "Recall@10: 0.1212 | Recall@20: 0.1748\n"
     ]
    },
    {
     "name": "stderr",
     "output_type": "stream",
     "text": [
      "100%|██████████| 63/63 [00:03<00:00, 18.41it/s]\n",
      "100%|██████████| 63/63 [00:03<00:00, 16.07it/s]\n",
      "100%|██████████| 63/63 [00:04<00:00, 14.31it/s]\n",
      "100%|██████████| 63/63 [00:04<00:00, 15.46it/s]\n",
      "100%|██████████| 63/63 [00:03<00:00, 17.02it/s]\n"
     ]
    },
    {
     "name": "stdout",
     "output_type": "stream",
     "text": [
      "Epoch 37 | Average Loss: 0.8357\n",
      "Recall@10: 0.1171 | Recall@20: 0.1665\n"
     ]
    },
    {
     "name": "stderr",
     "output_type": "stream",
     "text": [
      "100%|██████████| 63/63 [00:03<00:00, 17.17it/s]\n",
      "100%|██████████| 63/63 [00:03<00:00, 16.54it/s]\n",
      "100%|██████████| 63/63 [00:04<00:00, 14.01it/s]\n",
      "100%|██████████| 63/63 [00:03<00:00, 18.36it/s]\n",
      "100%|██████████| 63/63 [00:03<00:00, 18.72it/s]\n"
     ]
    },
    {
     "name": "stdout",
     "output_type": "stream",
     "text": [
      "Epoch 38 | Average Loss: 0.8332\n",
      "Recall@10: 0.1241 | Recall@20: 0.1782\n"
     ]
    },
    {
     "name": "stderr",
     "output_type": "stream",
     "text": [
      "100%|██████████| 63/63 [00:03<00:00, 19.24it/s]\n",
      "100%|██████████| 63/63 [00:03<00:00, 18.56it/s]\n",
      "100%|██████████| 63/63 [00:03<00:00, 18.53it/s]\n",
      "100%|██████████| 63/63 [00:05<00:00, 11.50it/s]\n",
      "100%|██████████| 63/63 [00:03<00:00, 18.20it/s]\n"
     ]
    },
    {
     "name": "stdout",
     "output_type": "stream",
     "text": [
      "Epoch 39 | Average Loss: 0.8324\n",
      "Recall@10: 0.1124 | Recall@20: 0.1596\n"
     ]
    },
    {
     "name": "stderr",
     "output_type": "stream",
     "text": [
      "100%|██████████| 63/63 [00:05<00:00, 12.59it/s]\n",
      "100%|██████████| 63/63 [00:03<00:00, 19.34it/s]\n",
      "100%|██████████| 63/63 [00:03<00:00, 19.21it/s]\n",
      "100%|██████████| 63/63 [00:03<00:00, 19.17it/s]\n",
      "100%|██████████| 63/63 [00:03<00:00, 19.32it/s]\n"
     ]
    },
    {
     "name": "stdout",
     "output_type": "stream",
     "text": [
      "Epoch 40 | Average Loss: 0.8327\n",
      "Recall@10: 0.1171 | Recall@20: 0.1665\n"
     ]
    },
    {
     "name": "stderr",
     "output_type": "stream",
     "text": [
      "100%|██████████| 63/63 [00:04<00:00, 13.91it/s]\n",
      "100%|██████████| 63/63 [00:04<00:00, 14.91it/s]\n",
      "100%|██████████| 63/63 [00:04<00:00, 14.06it/s]\n",
      "100%|██████████| 63/63 [00:03<00:00, 16.19it/s]\n",
      "100%|██████████| 63/63 [00:03<00:00, 16.63it/s]\n"
     ]
    },
    {
     "name": "stdout",
     "output_type": "stream",
     "text": [
      "Epoch 41 | Average Loss: 0.8305\n",
      "Recall@10: 0.1190 | Recall@20: 0.1640\n"
     ]
    },
    {
     "name": "stderr",
     "output_type": "stream",
     "text": [
      "100%|██████████| 63/63 [00:03<00:00, 17.44it/s]\n",
      "100%|██████████| 63/63 [00:04<00:00, 13.68it/s]\n",
      "100%|██████████| 63/63 [00:03<00:00, 18.05it/s]\n",
      "100%|██████████| 63/63 [00:03<00:00, 17.36it/s]\n",
      "100%|██████████| 63/63 [00:03<00:00, 18.79it/s]\n"
     ]
    },
    {
     "name": "stdout",
     "output_type": "stream",
     "text": [
      "Epoch 42 | Average Loss: 0.8312\n",
      "Recall@10: 0.1165 | Recall@20: 0.1665\n"
     ]
    },
    {
     "name": "stderr",
     "output_type": "stream",
     "text": [
      "100%|██████████| 63/63 [00:05<00:00, 12.31it/s]\n",
      "100%|██████████| 63/63 [00:03<00:00, 16.41it/s]\n",
      "100%|██████████| 63/63 [00:04<00:00, 15.33it/s]\n",
      "100%|██████████| 63/63 [00:03<00:00, 19.06it/s]\n",
      "100%|██████████| 63/63 [00:03<00:00, 19.48it/s]\n"
     ]
    },
    {
     "name": "stdout",
     "output_type": "stream",
     "text": [
      "Epoch 43 | Average Loss: 0.8296\n",
      "Recall@10: 0.1171 | Recall@20: 0.1702\n"
     ]
    },
    {
     "name": "stderr",
     "output_type": "stream",
     "text": [
      "100%|██████████| 63/63 [00:03<00:00, 19.19it/s]\n",
      "100%|██████████| 63/63 [00:03<00:00, 19.44it/s]\n",
      "100%|██████████| 63/63 [00:04<00:00, 13.13it/s]\n",
      "100%|██████████| 63/63 [00:04<00:00, 14.78it/s]\n",
      "100%|██████████| 63/63 [00:04<00:00, 15.13it/s]\n"
     ]
    },
    {
     "name": "stdout",
     "output_type": "stream",
     "text": [
      "Epoch 44 | Average Loss: 0.8323\n",
      "Recall@10: 0.1196 | Recall@20: 0.1694\n"
     ]
    },
    {
     "name": "stderr",
     "output_type": "stream",
     "text": [
      "100%|██████████| 63/63 [00:03<00:00, 16.73it/s]\n",
      "100%|██████████| 63/63 [00:03<00:00, 16.84it/s]\n",
      "100%|██████████| 63/63 [00:03<00:00, 17.12it/s]\n",
      "100%|██████████| 63/63 [00:04<00:00, 13.79it/s]\n",
      "100%|██████████| 63/63 [00:04<00:00, 14.53it/s]\n"
     ]
    },
    {
     "name": "stdout",
     "output_type": "stream",
     "text": [
      "Epoch 45 | Average Loss: 0.8337\n",
      "Recall@10: 0.1091 | Recall@20: 0.1620\n"
     ]
    },
    {
     "name": "stderr",
     "output_type": "stream",
     "text": [
      "100%|██████████| 63/63 [00:03<00:00, 18.25it/s]\n",
      "100%|██████████| 63/63 [00:03<00:00, 19.18it/s]\n",
      "100%|██████████| 63/63 [00:04<00:00, 14.12it/s]\n",
      "100%|██████████| 63/63 [00:04<00:00, 14.27it/s]\n",
      "100%|██████████| 63/63 [00:03<00:00, 18.39it/s]\n"
     ]
    },
    {
     "name": "stdout",
     "output_type": "stream",
     "text": [
      "Epoch 46 | Average Loss: 0.8330\n",
      "Recall@10: 0.1134 | Recall@20: 0.1603\n"
     ]
    },
    {
     "name": "stderr",
     "output_type": "stream",
     "text": [
      "100%|██████████| 63/63 [00:03<00:00, 17.63it/s]\n",
      "100%|██████████| 63/63 [00:03<00:00, 16.85it/s]\n",
      "100%|██████████| 63/63 [00:03<00:00, 16.46it/s]\n",
      "100%|██████████| 63/63 [00:04<00:00, 13.43it/s]\n",
      "100%|██████████| 63/63 [00:04<00:00, 15.24it/s]\n"
     ]
    },
    {
     "name": "stdout",
     "output_type": "stream",
     "text": [
      "Epoch 47 | Average Loss: 0.8295\n",
      "Recall@10: 0.1192 | Recall@20: 0.1655\n"
     ]
    },
    {
     "name": "stderr",
     "output_type": "stream",
     "text": [
      "100%|██████████| 63/63 [00:03<00:00, 16.37it/s]\n",
      "100%|██████████| 63/63 [00:04<00:00, 15.28it/s]\n",
      "100%|██████████| 63/63 [00:03<00:00, 16.65it/s]\n",
      "100%|██████████| 63/63 [00:03<00:00, 16.01it/s]\n",
      "100%|██████████| 63/63 [00:04<00:00, 12.75it/s]\n"
     ]
    },
    {
     "name": "stdout",
     "output_type": "stream",
     "text": [
      "Epoch 48 | Average Loss: 0.8295\n",
      "Recall@10: 0.1135 | Recall@20: 0.1667\n"
     ]
    },
    {
     "name": "stderr",
     "output_type": "stream",
     "text": [
      "100%|██████████| 63/63 [00:04<00:00, 15.72it/s]\n",
      "100%|██████████| 63/63 [00:03<00:00, 17.34it/s]\n",
      "100%|██████████| 63/63 [00:04<00:00, 14.50it/s]\n",
      "100%|██████████| 63/63 [00:04<00:00, 13.46it/s]\n",
      "100%|██████████| 63/63 [00:03<00:00, 15.95it/s]\n"
     ]
    },
    {
     "name": "stdout",
     "output_type": "stream",
     "text": [
      "Epoch 49 | Average Loss: 0.8308\n",
      "Recall@10: 0.1200 | Recall@20: 0.1736\n"
     ]
    }
   ],
   "source": [
    "\n",
    "for epoch in range(50):\n",
    "    model_fixed.train()\n",
    "    \n",
    "    # Get edges for training\n",
    "    edge_list = list(train_graph.edges())\n",
    "    src, dst = zip(*edge_list)\n",
    "    src = torch.tensor(src, dtype=torch.long).to(device)\n",
    "    dst = torch.tensor(dst, dtype=torch.long).to(device)\n",
    "    n_edges = src.shape[0]\n",
    "    \n",
    "    # Process all edges in a single batch with multiple epochs\n",
    "    # This prevents in-place modification issues\n",
    "    batch_losses = []\n",
    "    \n",
    "    # Process in smaller sub-epochs\n",
    "    for sub_epoch in range(5):  # 5 sub-epochs per epoch\n",
    "        perm = torch.randperm(n_edges)\n",
    "        \n",
    "        for i in tqdm(range(0, n_edges, 1024)):\n",
    "            # Get embeddings for all nodes\n",
    "            h = model_fixed(train_graph, train_feats)\n",
    "            \n",
    "            batch_src = src[perm[i:i+1024]]\n",
    "            batch_dst = dst[perm[i:i+1024]]\n",
    "            \n",
    "            # Negative sampling\n",
    "            neg_dst = torch.randint(0, h.shape[0], batch_dst.shape, dtype=torch.long).to(device)\n",
    "            \n",
    "            pos_score = predictor(h, batch_src, batch_dst)\n",
    "            neg_score = predictor(h, batch_src, neg_dst)\n",
    "            \n",
    "            loss = compute_loss(pos_score, neg_score)\n",
    "            batch_losses.append(loss.item())\n",
    "            \n",
    "            optimizer.zero_grad()\n",
    "            loss.backward()  # No retain_graph needed\n",
    "            optimizer.step()\n",
    "    \n",
    "    avg_loss = sum(batch_losses) / len(batch_losses)\n",
    "    print(f\"Epoch {epoch} | Average Loss: {avg_loss:.4f}\")\n",
    "    \n",
    "    # Evaluation\n",
    "    model_fixed.eval()\n",
    "    with torch.no_grad():\n",
    "        # Get train node embeddings\n",
    "        train_embs = model_fixed(train_graph, train_feats)\n",
    "        \n",
    "        # Get eval node embeddings without graph structure\n",
    "        eval_embs = model_fixed(eval_graph, eval_feats)\n",
    "        \n",
    "        # Compute similarity scores\n",
    "        scores = torch.matmul(eval_embs, train_embs.T)\n",
    "        \n",
    "        # Get top-k predictions\n",
    "        topk = torch.topk(scores, k=20, dim=1)\n",
    "        predicted_indices = topk.indices\n",
    "        \n",
    "        # Calculate recall@k with the fixed function\n",
    "        recall_at_10 = calculate_recall_at_k_fixed(eval_ids, predicted_indices, 10)\n",
    "        recall_at_20 = calculate_recall_at_k_fixed(eval_ids, predicted_indices, 20)\n",
    "        \n",
    "        print(f\"Recall@10: {recall_at_10:.4f} | Recall@20: {recall_at_20:.4f}\")"
   ]
  },
  {
   "cell_type": "code",
   "execution_count": 10,
   "id": "b10476ba",
   "metadata": {},
   "outputs": [],
   "source": [
    "torch.save(model_fixed.state_dict(), 'release/gat_model.pt')"
   ]
  }
 ],
 "metadata": {
  "kernelspec": {
   "display_name": "Python 3",
   "language": "python",
   "name": "python3"
  },
  "language_info": {
   "codemirror_mode": {
    "name": "ipython",
    "version": 3
   },
   "file_extension": ".py",
   "mimetype": "text/x-python",
   "name": "python",
   "nbconvert_exporter": "python",
   "pygments_lexer": "ipython3",
   "version": "3.12.5"
  }
 },
 "nbformat": 4,
 "nbformat_minor": 5
}
